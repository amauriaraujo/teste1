{
 "cells": [
  {
   "cell_type": "markdown",
   "id": "1fa60dd2",
   "metadata": {
    "ExecuteTime": {
     "end_time": "2022-04-15T00:34:17.903023Z",
     "start_time": "2022-04-15T00:34:17.893076Z"
    },
    "heading_collapsed": true
   },
   "source": [
    "## Imports and Ignoring Warnings"
   ]
  },
  {
   "cell_type": "code",
   "execution_count": 30,
   "id": "98b8aedf",
   "metadata": {
    "ExecuteTime": {
     "end_time": "2022-04-15T00:34:17.917712Z",
     "start_time": "2022-04-15T00:34:17.905828Z"
    },
    "hidden": true
   },
   "outputs": [],
   "source": [
    "import time\n",
    "from selenium import webdriver\n",
    "from selenium.webdriver.chrome.options import Options\n",
    "import pandas as pd\n",
    "import warnings\n",
    "warnings.filterwarnings('ignore')"
   ]
  },
  {
   "cell_type": "markdown",
   "id": "fcc4bcaa",
   "metadata": {},
   "source": [
    "## Setting Up Selenium"
   ]
  },
  {
   "cell_type": "code",
   "execution_count": 31,
   "id": "db8b8cc6",
   "metadata": {
    "ExecuteTime": {
     "end_time": "2022-04-15T00:34:17.933294Z",
     "start_time": "2022-04-15T00:34:17.919263Z"
    }
   },
   "outputs": [],
   "source": [
    "chrome_options = Options()\n",
    "chrome_options.add_argument(\"--incognito\")\n",
    "chrome_options.add_argument(\"--window-size=1920x1080\")"
   ]
  },
  {
   "cell_type": "code",
   "execution_count": 32,
   "id": "65b02167",
   "metadata": {
    "ExecuteTime": {
     "end_time": "2022-04-15T00:34:19.343930Z",
     "start_time": "2022-04-15T00:34:17.935899Z"
    }
   },
   "outputs": [],
   "source": [
    "driver = webdriver.Chrome(chrome_options=chrome_options)"
   ]
  },
  {
   "cell_type": "markdown",
   "id": "1418e4fd",
   "metadata": {},
   "source": [
    "### Starting the Web Browser"
   ]
  },
  {
   "cell_type": "code",
   "execution_count": 33,
   "id": "29f9a113",
   "metadata": {
    "ExecuteTime": {
     "end_time": "2022-04-15T00:34:28.893199Z",
     "start_time": "2022-04-15T00:34:19.347237Z"
    }
   },
   "outputs": [],
   "source": [
    "url = \"https://psdeals.net/br-store\"\n",
    "driver.get(url)\n",
    "time.sleep(2)"
   ]
  },
  {
   "cell_type": "markdown",
   "id": "c67f4a3c",
   "metadata": {},
   "source": [
    "### Clicking The Search Button"
   ]
  },
  {
   "cell_type": "code",
   "execution_count": 34,
   "id": "fda33305",
   "metadata": {
    "ExecuteTime": {
     "end_time": "2022-04-15T00:34:31.012539Z",
     "start_time": "2022-04-15T00:34:28.894994Z"
    }
   },
   "outputs": [],
   "source": [
    "buttom_search = driver.find_element_by_css_selector('#w0 > div > span > button:nth-child(2)')\n",
    "buttom_search.click()\n",
    "time.sleep(2)"
   ]
  },
  {
   "cell_type": "markdown",
   "id": "10ce141c",
   "metadata": {},
   "source": [
    "### Typing The Name Of The Game and Searching For It"
   ]
  },
  {
   "cell_type": "code",
   "execution_count": 35,
   "id": "b079649c",
   "metadata": {
    "ExecuteTime": {
     "end_time": "2022-04-15T00:34:31.165970Z",
     "start_time": "2022-04-15T00:34:31.013566Z"
    }
   },
   "outputs": [],
   "source": [
    "input_search = driver.find_element_by_xpath('//*[@id=\"w0\"]/div/input')\n",
    "input_search.send_keys('fifa')\n",
    "#input_search = driver.find_element_by_xpath('//*[@id=\"w0\"]/div/input')\n"
   ]
  },
  {
   "cell_type": "code",
   "execution_count": 36,
   "id": "1fcbef88",
   "metadata": {
    "ExecuteTime": {
     "end_time": "2022-04-15T00:34:33.235275Z",
     "start_time": "2022-04-15T00:34:31.171768Z"
    }
   },
   "outputs": [],
   "source": [
    "buttom_search.click()\n",
    "time.sleep(2)"
   ]
  },
  {
   "cell_type": "markdown",
   "id": "b00fe858",
   "metadata": {},
   "source": [
    "### Getting the Main Element Of The Target Page"
   ]
  },
  {
   "cell_type": "code",
   "execution_count": 37,
   "id": "46bb0a0e",
   "metadata": {
    "ExecuteTime": {
     "end_time": "2022-04-15T00:34:36.124295Z",
     "start_time": "2022-04-15T00:34:33.239779Z"
    }
   },
   "outputs": [],
   "source": [
    "main_element = driver.find_element_by_xpath('/html/body/div[1]')\n",
    "#main_element = driver.find_element_by_css_selector('.container')"
   ]
  },
  {
   "cell_type": "code",
   "execution_count": 38,
   "id": "d7470b9e",
   "metadata": {
    "ExecuteTime": {
     "end_time": "2022-04-15T00:34:36.139520Z",
     "start_time": "2022-04-15T00:34:36.131526Z"
    }
   },
   "outputs": [
    {
     "data": {
      "text/plain": [
       "<selenium.webdriver.remote.webelement.WebElement (session=\"7ed0ac3acd06df3c6978062e32b587c7\", element=\"c906883a-2892-4f11-874c-5c40c577ef86\")>"
      ]
     },
     "execution_count": 38,
     "metadata": {},
     "output_type": "execute_result"
    }
   ],
   "source": [
    "main_element"
   ]
  },
  {
   "cell_type": "markdown",
   "id": "624fe3d3",
   "metadata": {},
   "source": [
    "### Getting The Title Of The First Game Of The Page"
   ]
  },
  {
   "cell_type": "code",
   "execution_count": 39,
   "id": "b69f5b1e",
   "metadata": {
    "ExecuteTime": {
     "end_time": "2022-04-15T00:34:36.431831Z",
     "start_time": "2022-04-15T00:34:36.142020Z"
    }
   },
   "outputs": [],
   "source": [
    "product_title = main_element.find_element_by_class_name('game-collection-item-details-title').text"
   ]
  },
  {
   "cell_type": "code",
   "execution_count": 40,
   "id": "1ec11cf7",
   "metadata": {
    "ExecuteTime": {
     "end_time": "2022-04-15T00:34:36.461932Z",
     "start_time": "2022-04-15T00:34:36.438916Z"
    }
   },
   "outputs": [
    {
     "data": {
      "text/plain": [
       "'FIFA 22 Ultimate Edition PS4™ and PS5™'"
      ]
     },
     "execution_count": 40,
     "metadata": {},
     "output_type": "execute_result"
    }
   ],
   "source": [
    "product_title"
   ]
  },
  {
   "cell_type": "markdown",
   "id": "632eec17",
   "metadata": {},
   "source": [
    "### Getting The Price Of The First Game Of The Page"
   ]
  },
  {
   "cell_type": "code",
   "execution_count": 41,
   "id": "400b4a25",
   "metadata": {
    "ExecuteTime": {
     "end_time": "2022-04-15T00:34:36.585627Z",
     "start_time": "2022-04-15T00:34:36.468774Z"
    }
   },
   "outputs": [],
   "source": [
    "product_price = main_element.find_element_by_css_selector('.game-collection-item-regular-price').text"
   ]
  },
  {
   "cell_type": "code",
   "execution_count": 42,
   "id": "0b5bc230",
   "metadata": {
    "ExecuteTime": {
     "end_time": "2022-04-15T00:34:36.602490Z",
     "start_time": "2022-04-15T00:34:36.588132Z"
    }
   },
   "outputs": [
    {
     "data": {
      "text/plain": [
       "'R$498.90'"
      ]
     },
     "execution_count": 42,
     "metadata": {},
     "output_type": "execute_result"
    }
   ],
   "source": [
    "product_price"
   ]
  },
  {
   "cell_type": "markdown",
   "id": "76e3d5ab",
   "metadata": {},
   "source": [
    "### Getting The Titles Of All The Games Of The Page"
   ]
  },
  {
   "cell_type": "code",
   "execution_count": 43,
   "id": "86fcd552",
   "metadata": {
    "ExecuteTime": {
     "end_time": "2022-04-15T00:34:36.647894Z",
     "start_time": "2022-04-15T00:34:36.609033Z"
    }
   },
   "outputs": [],
   "source": [
    "title_results = main_element.find_elements_by_css_selector('.game-collection-item-details-title')"
   ]
  },
  {
   "cell_type": "code",
   "execution_count": 44,
   "id": "5ce87c6b",
   "metadata": {
    "ExecuteTime": {
     "end_time": "2022-04-15T00:34:36.678414Z",
     "start_time": "2022-04-15T00:34:36.658258Z"
    }
   },
   "outputs": [
    {
     "data": {
      "text/plain": [
       "[<selenium.webdriver.remote.webelement.WebElement (session=\"7ed0ac3acd06df3c6978062e32b587c7\", element=\"dc9b2315-f561-48cb-95b0-b2315e206150\")>,\n",
       " <selenium.webdriver.remote.webelement.WebElement (session=\"7ed0ac3acd06df3c6978062e32b587c7\", element=\"32703d0c-f168-44da-9db2-b8272818ba11\")>,\n",
       " <selenium.webdriver.remote.webelement.WebElement (session=\"7ed0ac3acd06df3c6978062e32b587c7\", element=\"150cd6d2-db9f-4c49-9685-b26d2f2bfa1e\")>,\n",
       " <selenium.webdriver.remote.webelement.WebElement (session=\"7ed0ac3acd06df3c6978062e32b587c7\", element=\"951d770d-3a49-4720-a0ff-eb1d773acf59\")>,\n",
       " <selenium.webdriver.remote.webelement.WebElement (session=\"7ed0ac3acd06df3c6978062e32b587c7\", element=\"7145be47-ae3a-4c58-8c12-36e63ed25330\")>,\n",
       " <selenium.webdriver.remote.webelement.WebElement (session=\"7ed0ac3acd06df3c6978062e32b587c7\", element=\"488a919f-1919-44d4-80d4-fde9280c938f\")>,\n",
       " <selenium.webdriver.remote.webelement.WebElement (session=\"7ed0ac3acd06df3c6978062e32b587c7\", element=\"7a211fb9-f1cc-4781-9cf0-0e7b225e7fa7\")>,\n",
       " <selenium.webdriver.remote.webelement.WebElement (session=\"7ed0ac3acd06df3c6978062e32b587c7\", element=\"1527ce0a-a787-4e8a-a8f0-463445295fc7\")>,\n",
       " <selenium.webdriver.remote.webelement.WebElement (session=\"7ed0ac3acd06df3c6978062e32b587c7\", element=\"335eb113-14d1-4023-a4f7-57a2b1d8bdef\")>,\n",
       " <selenium.webdriver.remote.webelement.WebElement (session=\"7ed0ac3acd06df3c6978062e32b587c7\", element=\"b45f4b38-fdf4-4a33-bae6-09ce0c45517a\")>,\n",
       " <selenium.webdriver.remote.webelement.WebElement (session=\"7ed0ac3acd06df3c6978062e32b587c7\", element=\"06dbe88c-30db-4ecc-8535-da493fd7dcba\")>]"
      ]
     },
     "execution_count": 44,
     "metadata": {},
     "output_type": "execute_result"
    }
   ],
   "source": [
    "title_results"
   ]
  },
  {
   "cell_type": "code",
   "execution_count": 1,
   "id": "9f6d8e16",
   "metadata": {
    "ExecuteTime": {
     "end_time": "2022-04-25T21:14:42.491167Z",
     "start_time": "2022-04-25T21:14:42.239486Z"
    }
   },
   "outputs": [
    {
     "ename": "NameError",
     "evalue": "name 'title_results' is not defined",
     "output_type": "error",
     "traceback": [
      "\u001b[1;31m---------------------------------------------------------------------------\u001b[0m",
      "\u001b[1;31mNameError\u001b[0m                                 Traceback (most recent call last)",
      "\u001b[1;32m~\\AppData\\Local\\Temp/ipykernel_16988/495019396.py\u001b[0m in \u001b[0;36m<module>\u001b[1;34m\u001b[0m\n\u001b[0;32m      1\u001b[0m \u001b[1;31m# Extracting the text out of the selenium info\u001b[0m\u001b[1;33m\u001b[0m\u001b[1;33m\u001b[0m\u001b[0m\n\u001b[1;32m----> 2\u001b[1;33m \u001b[0mproduct_list\u001b[0m \u001b[1;33m=\u001b[0m \u001b[1;33m[\u001b[0m\u001b[0mtitle\u001b[0m\u001b[1;33m.\u001b[0m\u001b[0mtext\u001b[0m \u001b[1;32mfor\u001b[0m \u001b[0mtitle\u001b[0m \u001b[1;32min\u001b[0m \u001b[0mtitle_results\u001b[0m\u001b[1;33m]\u001b[0m\u001b[1;33m\u001b[0m\u001b[1;33m\u001b[0m\u001b[0m\n\u001b[0m",
      "\u001b[1;31mNameError\u001b[0m: name 'title_results' is not defined"
     ]
    }
   ],
   "source": [
    "# Extracting the text out of the selenium info\n",
    "product_list = [title.text for title in title_results]"
   ]
  },
  {
   "cell_type": "code",
   "execution_count": 47,
   "id": "6620bc2f",
   "metadata": {
    "ExecuteTime": {
     "end_time": "2022-04-15T00:34:36.989669Z",
     "start_time": "2022-04-15T00:34:36.979603Z"
    }
   },
   "outputs": [
    {
     "data": {
      "text/plain": [
       "['FIFA 22 Ultimate Edition PS4™ and PS5™',\n",
       " 'FIFA 22 PS4™',\n",
       " 'FIFA 22 PS5™',\n",
       " 'FIFA 21 Champions Edition PS4™ and PS5™',\n",
       " 'FIFA 21 Ultimate Edition PS4™ and PS5™',\n",
       " 'FIFA 21 NXT LVL EDITION PS5™',\n",
       " 'FIFA 21 Standard Edition PS4™ and PS5™',\n",
       " 'EA SPORTS™ FIFA 17 Standard Edition',\n",
       " 'EA SPORTS™ FIFA 16',\n",
       " 'FIFA 15',\n",
       " 'EA SPORTS™ FIFA Street']"
      ]
     },
     "execution_count": 47,
     "metadata": {},
     "output_type": "execute_result"
    }
   ],
   "source": [
    "product_list"
   ]
  },
  {
   "cell_type": "markdown",
   "id": "39841175",
   "metadata": {},
   "source": [
    "### Getting The Prices Of All The Games Of The Page"
   ]
  },
  {
   "cell_type": "code",
   "execution_count": 48,
   "id": "aa3dc143",
   "metadata": {
    "ExecuteTime": {
     "end_time": "2022-04-15T00:34:37.020862Z",
     "start_time": "2022-04-15T00:34:36.990568Z"
    }
   },
   "outputs": [],
   "source": [
    "price_results = main_element.find_elements_by_css_selector('.game-collection-item-regular-price')"
   ]
  },
  {
   "cell_type": "code",
   "execution_count": 49,
   "id": "f2acfb3a",
   "metadata": {
    "ExecuteTime": {
     "end_time": "2022-04-15T00:34:37.051360Z",
     "start_time": "2022-04-15T00:34:37.024729Z"
    }
   },
   "outputs": [
    {
     "data": {
      "text/plain": [
       "[<selenium.webdriver.remote.webelement.WebElement (session=\"7ed0ac3acd06df3c6978062e32b587c7\", element=\"59547026-f376-4cf4-8833-03e1a336c8b7\")>,\n",
       " <selenium.webdriver.remote.webelement.WebElement (session=\"7ed0ac3acd06df3c6978062e32b587c7\", element=\"80482bac-0e7f-47b6-8ebf-b035a5f160d6\")>,\n",
       " <selenium.webdriver.remote.webelement.WebElement (session=\"7ed0ac3acd06df3c6978062e32b587c7\", element=\"bab899cd-7f05-4d8f-a7eb-8259ebb39757\")>,\n",
       " <selenium.webdriver.remote.webelement.WebElement (session=\"7ed0ac3acd06df3c6978062e32b587c7\", element=\"ebbca5ae-bd3e-4a4e-ac1c-22c2cc4d94b1\")>,\n",
       " <selenium.webdriver.remote.webelement.WebElement (session=\"7ed0ac3acd06df3c6978062e32b587c7\", element=\"323c03f4-4112-4660-85a2-5625f0f1efc6\")>,\n",
       " <selenium.webdriver.remote.webelement.WebElement (session=\"7ed0ac3acd06df3c6978062e32b587c7\", element=\"7851800b-2425-4c36-9855-8465e0e3aff3\")>,\n",
       " <selenium.webdriver.remote.webelement.WebElement (session=\"7ed0ac3acd06df3c6978062e32b587c7\", element=\"7a368358-b508-4031-afa4-92f4c05b64ca\")>,\n",
       " <selenium.webdriver.remote.webelement.WebElement (session=\"7ed0ac3acd06df3c6978062e32b587c7\", element=\"b95f8c31-354b-4cef-bb1f-8a8420f69d3e\")>,\n",
       " <selenium.webdriver.remote.webelement.WebElement (session=\"7ed0ac3acd06df3c6978062e32b587c7\", element=\"5398a6b1-aeef-4c68-80d8-82aea2b6293d\")>,\n",
       " <selenium.webdriver.remote.webelement.WebElement (session=\"7ed0ac3acd06df3c6978062e32b587c7\", element=\"b6834a4a-96a1-4d55-beff-2f8d15d72b09\")>,\n",
       " <selenium.webdriver.remote.webelement.WebElement (session=\"7ed0ac3acd06df3c6978062e32b587c7\", element=\"828fb648-d9fd-46f2-9ecd-b543ca2595f4\")>]"
      ]
     },
     "execution_count": 49,
     "metadata": {},
     "output_type": "execute_result"
    }
   ],
   "source": [
    "price_results"
   ]
  },
  {
   "cell_type": "code",
   "execution_count": 2,
   "id": "df80201d",
   "metadata": {
    "ExecuteTime": {
     "end_time": "2022-04-25T21:15:33.068223Z",
     "start_time": "2022-04-25T21:15:33.053263Z"
    }
   },
   "outputs": [
    {
     "ename": "NameError",
     "evalue": "name 'price_results' is not defined",
     "output_type": "error",
     "traceback": [
      "\u001b[1;31m---------------------------------------------------------------------------\u001b[0m",
      "\u001b[1;31mNameError\u001b[0m                                 Traceback (most recent call last)",
      "\u001b[1;32m~\\AppData\\Local\\Temp/ipykernel_16988/1213253287.py\u001b[0m in \u001b[0;36m<module>\u001b[1;34m\u001b[0m\n\u001b[0;32m      1\u001b[0m \u001b[1;31m#Extracting the text from the Selenium info\u001b[0m\u001b[1;33m\u001b[0m\u001b[1;33m\u001b[0m\u001b[0m\n\u001b[1;32m----> 2\u001b[1;33m \u001b[0mprice_list\u001b[0m \u001b[1;33m=\u001b[0m \u001b[1;33m[\u001b[0m\u001b[0mtitle\u001b[0m\u001b[1;33m.\u001b[0m\u001b[0mtext\u001b[0m \u001b[1;32mfor\u001b[0m \u001b[0mtitle\u001b[0m \u001b[1;32min\u001b[0m \u001b[0mprice_results\u001b[0m\u001b[1;33m]\u001b[0m\u001b[1;33m\u001b[0m\u001b[1;33m\u001b[0m\u001b[0m\n\u001b[0m",
      "\u001b[1;31mNameError\u001b[0m: name 'price_results' is not defined"
     ]
    }
   ],
   "source": [
    "#Extracting the text from the Selenium info\n",
    "price_list = [title.text for title in price_results]"
   ]
  },
  {
   "cell_type": "code",
   "execution_count": 51,
   "id": "2f221091",
   "metadata": {
    "ExecuteTime": {
     "end_time": "2022-04-15T00:34:37.374596Z",
     "start_time": "2022-04-15T00:34:37.354053Z"
    }
   },
   "outputs": [
    {
     "data": {
      "text/plain": [
       "['R$498.90',\n",
       " 'R$298.90',\n",
       " 'R$338.90',\n",
       " 'R$398.90',\n",
       " 'R$498.90',\n",
       " 'R$338.90',\n",
       " 'R$298.90',\n",
       " 'R$124.90',\n",
       " 'R$129.90',\n",
       " 'R$49.99',\n",
       " 'R$203.90']"
      ]
     },
     "execution_count": 51,
     "metadata": {},
     "output_type": "execute_result"
    }
   ],
   "source": [
    "price_list"
   ]
  },
  {
   "cell_type": "markdown",
   "id": "9c106392",
   "metadata": {},
   "source": [
    "### Creating a Dictionary With All The Titles And All the Prices Of The Games"
   ]
  },
  {
   "cell_type": "code",
   "execution_count": 52,
   "id": "4da2544e",
   "metadata": {
    "ExecuteTime": {
     "end_time": "2022-04-15T00:34:37.404976Z",
     "start_time": "2022-04-15T00:34:37.381187Z"
    }
   },
   "outputs": [
    {
     "data": {
      "text/plain": [
       "{'FIFA 22 Ultimate Edition PS4™ and PS5™': 'R$498.90',\n",
       " 'FIFA 22 PS4™': 'R$298.90',\n",
       " 'FIFA 22 PS5™': 'R$338.90',\n",
       " 'FIFA 21 Champions Edition PS4™ and PS5™': 'R$398.90',\n",
       " 'FIFA 21 Ultimate Edition PS4™ and PS5™': 'R$498.90',\n",
       " 'FIFA 21 NXT LVL EDITION PS5™': 'R$338.90',\n",
       " 'FIFA 21 Standard Edition PS4™ and PS5™': 'R$298.90',\n",
       " 'EA SPORTS™ FIFA 17 Standard Edition': 'R$124.90',\n",
       " 'EA SPORTS™ FIFA 16': 'R$129.90',\n",
       " 'FIFA 15': 'R$49.99',\n",
       " 'EA SPORTS™ FIFA Street': 'R$203.90'}"
      ]
     },
     "execution_count": 52,
     "metadata": {},
     "output_type": "execute_result"
    }
   ],
   "source": [
    "dictionary = {}\n",
    "for title, result in zip(product_list,price_list):\n",
    "    dicionario[title] = result\n",
    "    \n",
    "dictionary"
   ]
  },
  {
   "cell_type": "markdown",
   "id": "77fbec51",
   "metadata": {},
   "source": [
    "### Converting The Dictionary To a DataFrame"
   ]
  },
  {
   "cell_type": "code",
   "execution_count": 53,
   "id": "f5fd35ec",
   "metadata": {
    "ExecuteTime": {
     "end_time": "2022-04-15T00:34:37.421092Z",
     "start_time": "2022-04-15T00:34:37.407695Z"
    }
   },
   "outputs": [],
   "source": [
    "data = pd.DataFrame.from_dict(dictionary,orient='index').reset_index()"
   ]
  },
  {
   "cell_type": "code",
   "execution_count": 54,
   "id": "096ee54e",
   "metadata": {
    "ExecuteTime": {
     "end_time": "2022-04-15T00:34:37.451678Z",
     "start_time": "2022-04-15T00:34:37.424045Z"
    }
   },
   "outputs": [],
   "source": [
    "data = data.rename(columns = {'index': 'Game',0:'Price'})"
   ]
  },
  {
   "cell_type": "code",
   "execution_count": 55,
   "id": "1d19b887",
   "metadata": {
    "ExecuteTime": {
     "end_time": "2022-04-15T00:34:37.482540Z",
     "start_time": "2022-04-15T00:34:37.455785Z"
    }
   },
   "outputs": [
    {
     "data": {
      "text/html": [
       "<div>\n",
       "<style scoped>\n",
       "    .dataframe tbody tr th:only-of-type {\n",
       "        vertical-align: middle;\n",
       "    }\n",
       "\n",
       "    .dataframe tbody tr th {\n",
       "        vertical-align: top;\n",
       "    }\n",
       "\n",
       "    .dataframe thead th {\n",
       "        text-align: right;\n",
       "    }\n",
       "</style>\n",
       "<table border=\"1\" class=\"dataframe\">\n",
       "  <thead>\n",
       "    <tr style=\"text-align: right;\">\n",
       "      <th></th>\n",
       "      <th>Game</th>\n",
       "      <th>Price</th>\n",
       "    </tr>\n",
       "  </thead>\n",
       "  <tbody>\n",
       "    <tr>\n",
       "      <th>0</th>\n",
       "      <td>FIFA 22 Ultimate Edition PS4™ and PS5™</td>\n",
       "      <td>R$498.90</td>\n",
       "    </tr>\n",
       "    <tr>\n",
       "      <th>1</th>\n",
       "      <td>FIFA 22 PS4™</td>\n",
       "      <td>R$298.90</td>\n",
       "    </tr>\n",
       "    <tr>\n",
       "      <th>2</th>\n",
       "      <td>FIFA 22 PS5™</td>\n",
       "      <td>R$338.90</td>\n",
       "    </tr>\n",
       "    <tr>\n",
       "      <th>3</th>\n",
       "      <td>FIFA 21 Champions Edition PS4™ and PS5™</td>\n",
       "      <td>R$398.90</td>\n",
       "    </tr>\n",
       "    <tr>\n",
       "      <th>4</th>\n",
       "      <td>FIFA 21 Ultimate Edition PS4™ and PS5™</td>\n",
       "      <td>R$498.90</td>\n",
       "    </tr>\n",
       "    <tr>\n",
       "      <th>5</th>\n",
       "      <td>FIFA 21 NXT LVL EDITION PS5™</td>\n",
       "      <td>R$338.90</td>\n",
       "    </tr>\n",
       "    <tr>\n",
       "      <th>6</th>\n",
       "      <td>FIFA 21 Standard Edition PS4™ and PS5™</td>\n",
       "      <td>R$298.90</td>\n",
       "    </tr>\n",
       "    <tr>\n",
       "      <th>7</th>\n",
       "      <td>EA SPORTS™ FIFA 17 Standard Edition</td>\n",
       "      <td>R$124.90</td>\n",
       "    </tr>\n",
       "    <tr>\n",
       "      <th>8</th>\n",
       "      <td>EA SPORTS™ FIFA 16</td>\n",
       "      <td>R$129.90</td>\n",
       "    </tr>\n",
       "    <tr>\n",
       "      <th>9</th>\n",
       "      <td>FIFA 15</td>\n",
       "      <td>R$49.99</td>\n",
       "    </tr>\n",
       "    <tr>\n",
       "      <th>10</th>\n",
       "      <td>EA SPORTS™ FIFA Street</td>\n",
       "      <td>R$203.90</td>\n",
       "    </tr>\n",
       "  </tbody>\n",
       "</table>\n",
       "</div>"
      ],
      "text/plain": [
       "                                       Game     Price\n",
       "0    FIFA 22 Ultimate Edition PS4™ and PS5™  R$498.90\n",
       "1                              FIFA 22 PS4™  R$298.90\n",
       "2                              FIFA 22 PS5™  R$338.90\n",
       "3   FIFA 21 Champions Edition PS4™ and PS5™  R$398.90\n",
       "4    FIFA 21 Ultimate Edition PS4™ and PS5™  R$498.90\n",
       "5              FIFA 21 NXT LVL EDITION PS5™  R$338.90\n",
       "6    FIFA 21 Standard Edition PS4™ and PS5™  R$298.90\n",
       "7       EA SPORTS™ FIFA 17 Standard Edition  R$124.90\n",
       "8                        EA SPORTS™ FIFA 16  R$129.90\n",
       "9                                   FIFA 15   R$49.99\n",
       "10                   EA SPORTS™ FIFA Street  R$203.90"
      ]
     },
     "execution_count": 55,
     "metadata": {},
     "output_type": "execute_result"
    }
   ],
   "source": [
    "data"
   ]
  },
  {
   "cell_type": "code",
   "execution_count": 56,
   "id": "8a19bc82",
   "metadata": {
    "ExecuteTime": {
     "end_time": "2022-04-15T00:34:39.881531Z",
     "start_time": "2022-04-15T00:34:37.491128Z"
    }
   },
   "outputs": [],
   "source": [
    "driver.quit()"
   ]
  }
 ],
 "metadata": {
  "kernelspec": {
   "display_name": "Python 3 (ipykernel)",
   "language": "python",
   "name": "python3"
  },
  "language_info": {
   "codemirror_mode": {
    "name": "ipython",
    "version": 3
   },
   "file_extension": ".py",
   "mimetype": "text/x-python",
   "name": "python",
   "nbconvert_exporter": "python",
   "pygments_lexer": "ipython3",
   "version": "3.9.7"
  }
 },
 "nbformat": 4,
 "nbformat_minor": 5
}
