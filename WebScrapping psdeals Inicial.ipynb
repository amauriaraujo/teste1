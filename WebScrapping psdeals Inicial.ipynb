{
 "cells": [
  {
   "cell_type": "markdown",
   "id": "1fa60dd2",
   "metadata": {
    "ExecuteTime": {
     "end_time": "2022-04-15T00:34:17.903023Z",
     "start_time": "2022-04-15T00:34:17.893076Z"
    }
   },
   "source": [
    "## Imports and Ignoring Warnings"
   ]
  },
  {
   "cell_type": "code",
   "execution_count": 27,
   "id": "98b8aedf",
   "metadata": {
    "ExecuteTime": {
     "end_time": "2022-05-02T23:25:33.024523Z",
     "start_time": "2022-05-02T23:25:33.020603Z"
    }
   },
   "outputs": [],
   "source": [
    "import time\n",
    "from selenium import webdriver\n",
    "from selenium.webdriver.chrome.options import Options\n",
    "import pandas as pd\n",
    "import warnings\n",
    "warnings.filterwarnings('ignore')"
   ]
  },
  {
   "cell_type": "markdown",
   "id": "fcc4bcaa",
   "metadata": {},
   "source": [
    "## Configurando Selenium"
   ]
  },
  {
   "cell_type": "code",
   "execution_count": 28,
   "id": "db8b8cc6",
   "metadata": {
    "ExecuteTime": {
     "end_time": "2022-05-02T23:25:33.416052Z",
     "start_time": "2022-05-02T23:25:33.411378Z"
    }
   },
   "outputs": [],
   "source": [
    "chrome_options = Options()\n",
    "chrome_options.add_argument(\"--incognito\")\n",
    "chrome_options.add_argument(\"--window-size=1920x1080\")"
   ]
  },
  {
   "cell_type": "code",
   "execution_count": 29,
   "id": "65b02167",
   "metadata": {
    "ExecuteTime": {
     "end_time": "2022-05-02T23:25:34.867164Z",
     "start_time": "2022-05-02T23:25:33.583645Z"
    }
   },
   "outputs": [],
   "source": [
    "driver = webdriver.Chrome(chrome_options=chrome_options)"
   ]
  },
  {
   "cell_type": "markdown",
   "id": "1418e4fd",
   "metadata": {},
   "source": [
    "### Setando a URL"
   ]
  },
  {
   "cell_type": "code",
   "execution_count": 30,
   "id": "29f9a113",
   "metadata": {
    "ExecuteTime": {
     "end_time": "2022-05-02T23:25:43.835819Z",
     "start_time": "2022-05-02T23:25:34.872153Z"
    }
   },
   "outputs": [],
   "source": [
    "url = \"https://psdeals.net/br-store\"\n",
    "driver.get(url)\n",
    "time.sleep(2)"
   ]
  },
  {
   "cell_type": "markdown",
   "id": "b29e66a4",
   "metadata": {},
   "source": [
    "### Clicando no botão de pesquisa"
   ]
  },
  {
   "cell_type": "code",
   "execution_count": 31,
   "id": "fda33305",
   "metadata": {
    "ExecuteTime": {
     "end_time": "2022-05-02T23:25:45.949702Z",
     "start_time": "2022-05-02T23:25:43.837784Z"
    }
   },
   "outputs": [],
   "source": [
    "buttom_search = driver.find_element_by_css_selector('#w0 > div > span > button:nth-child(2)')\n",
    "buttom_search.click()\n",
    "time.sleep(2)"
   ]
  },
  {
   "cell_type": "markdown",
   "id": "e6df397f",
   "metadata": {
    "ExecuteTime": {
     "end_time": "2022-05-02T22:18:26.011538Z",
     "start_time": "2022-05-02T22:18:26.006799Z"
    }
   },
   "source": [
    "### Digitando o nome do jogo"
   ]
  },
  {
   "cell_type": "code",
   "execution_count": 32,
   "id": "b079649c",
   "metadata": {
    "ExecuteTime": {
     "end_time": "2022-05-02T23:25:46.026941Z",
     "start_time": "2022-05-02T23:25:45.951696Z"
    }
   },
   "outputs": [],
   "source": [
    "input_search = driver.find_element_by_xpath('//*[@id=\"w0\"]/div/input')\n",
    "input_search.send_keys('fifa')"
   ]
  },
  {
   "cell_type": "markdown",
   "id": "5a62a99b",
   "metadata": {},
   "source": [
    "### Clicando no botão de pesquisa"
   ]
  },
  {
   "cell_type": "code",
   "execution_count": 33,
   "id": "1fcbef88",
   "metadata": {
    "ExecuteTime": {
     "end_time": "2022-05-02T23:25:48.078119Z",
     "start_time": "2022-05-02T23:25:46.029937Z"
    }
   },
   "outputs": [],
   "source": [
    "buttom_search.click()\n",
    "time.sleep(2)"
   ]
  },
  {
   "cell_type": "markdown",
   "id": "861a72bc",
   "metadata": {},
   "source": [
    "### Selecionando o Main Element da página do jogo"
   ]
  },
  {
   "cell_type": "code",
   "execution_count": 34,
   "id": "46bb0a0e",
   "metadata": {
    "ExecuteTime": {
     "end_time": "2022-05-02T23:25:49.928174Z",
     "start_time": "2022-05-02T23:25:48.081110Z"
    }
   },
   "outputs": [
    {
     "ename": "NoSuchElementException",
     "evalue": "Message: no such element: Unable to locate element: {\"method\":\"xpath\",\"selector\":\"/html/bod/div[1]\"}\n  (Session info: chrome=101.0.4951.41)\nStacktrace:\nBacktrace:\n\tOrdinal0 [0x01237413+2389011]\n\tOrdinal0 [0x011C9F61+1941345]\n\tOrdinal0 [0x010BC658+837208]\n\tOrdinal0 [0x010E91DD+1020381]\n\tOrdinal0 [0x010E949B+1021083]\n\tOrdinal0 [0x01116032+1204274]\n\tOrdinal0 [0x01104194+1130900]\n\tOrdinal0 [0x01114302+1196802]\n\tOrdinal0 [0x01103F66+1130342]\n\tOrdinal0 [0x010DE546+976198]\n\tOrdinal0 [0x010DF456+980054]\n\tGetHandleVerifier [0x013E9632+1727522]\n\tGetHandleVerifier [0x0149BA4D+2457661]\n\tGetHandleVerifier [0x012CEB81+569713]\n\tGetHandleVerifier [0x012CDD76+566118]\n\tOrdinal0 [0x011D0B2B+1968939]\n\tOrdinal0 [0x011D5988+1989000]\n\tOrdinal0 [0x011D5A75+1989237]\n\tOrdinal0 [0x011DECB1+2026673]\n\tBaseThreadInitThunk [0x75B1FA29+25]\n\tRtlGetAppContainerNamedObjectPath [0x779975F4+228]\n\tRtlGetAppContainerNamedObjectPath [0x779975C4+180]\n",
     "output_type": "error",
     "traceback": [
      "\u001b[1;31m---------------------------------------------------------------------------\u001b[0m",
      "\u001b[1;31mNoSuchElementException\u001b[0m                    Traceback (most recent call last)",
      "\u001b[1;32m~\\AppData\\Local\\Temp/ipykernel_10792/1531484827.py\u001b[0m in \u001b[0;36m<module>\u001b[1;34m\u001b[0m\n\u001b[1;32m----> 1\u001b[1;33m \u001b[0mmain_element\u001b[0m \u001b[1;33m=\u001b[0m \u001b[0mdriver\u001b[0m\u001b[1;33m.\u001b[0m\u001b[0mfind_element_by_xpath\u001b[0m\u001b[1;33m(\u001b[0m\u001b[1;34m'/html/bod/div[1]'\u001b[0m\u001b[1;33m)\u001b[0m\u001b[1;33m\u001b[0m\u001b[1;33m\u001b[0m\u001b[0m\n\u001b[0m\u001b[0;32m      2\u001b[0m \u001b[1;31m#main_element = driver.find_element_by_css_selector('.container')\u001b[0m\u001b[1;33m\u001b[0m\u001b[1;33m\u001b[0m\u001b[0m\n",
      "\u001b[1;32m~\\anaconda3\\lib\\site-packages\\selenium\\webdriver\\remote\\webdriver.py\u001b[0m in \u001b[0;36mfind_element_by_xpath\u001b[1;34m(self, xpath)\u001b[0m\n\u001b[0;32m    519\u001b[0m             \u001b[0mstacklevel\u001b[0m\u001b[1;33m=\u001b[0m\u001b[1;36m2\u001b[0m\u001b[1;33m,\u001b[0m\u001b[1;33m\u001b[0m\u001b[1;33m\u001b[0m\u001b[0m\n\u001b[0;32m    520\u001b[0m         )\n\u001b[1;32m--> 521\u001b[1;33m         \u001b[1;32mreturn\u001b[0m \u001b[0mself\u001b[0m\u001b[1;33m.\u001b[0m\u001b[0mfind_element\u001b[0m\u001b[1;33m(\u001b[0m\u001b[0mby\u001b[0m\u001b[1;33m=\u001b[0m\u001b[0mBy\u001b[0m\u001b[1;33m.\u001b[0m\u001b[0mXPATH\u001b[0m\u001b[1;33m,\u001b[0m \u001b[0mvalue\u001b[0m\u001b[1;33m=\u001b[0m\u001b[0mxpath\u001b[0m\u001b[1;33m)\u001b[0m\u001b[1;33m\u001b[0m\u001b[1;33m\u001b[0m\u001b[0m\n\u001b[0m\u001b[0;32m    522\u001b[0m \u001b[1;33m\u001b[0m\u001b[0m\n\u001b[0;32m    523\u001b[0m     \u001b[1;32mdef\u001b[0m \u001b[0mfind_elements_by_xpath\u001b[0m\u001b[1;33m(\u001b[0m\u001b[0mself\u001b[0m\u001b[1;33m,\u001b[0m \u001b[0mxpath\u001b[0m\u001b[1;33m)\u001b[0m \u001b[1;33m->\u001b[0m \u001b[0mList\u001b[0m\u001b[1;33m[\u001b[0m\u001b[0mWebElement\u001b[0m\u001b[1;33m]\u001b[0m\u001b[1;33m:\u001b[0m\u001b[1;33m\u001b[0m\u001b[1;33m\u001b[0m\u001b[0m\n",
      "\u001b[1;32m~\\anaconda3\\lib\\site-packages\\selenium\\webdriver\\remote\\webdriver.py\u001b[0m in \u001b[0;36mfind_element\u001b[1;34m(self, by, value)\u001b[0m\n\u001b[0;32m   1246\u001b[0m             \u001b[0mvalue\u001b[0m \u001b[1;33m=\u001b[0m \u001b[1;34m'[name=\"%s\"]'\u001b[0m \u001b[1;33m%\u001b[0m \u001b[0mvalue\u001b[0m\u001b[1;33m\u001b[0m\u001b[1;33m\u001b[0m\u001b[0m\n\u001b[0;32m   1247\u001b[0m \u001b[1;33m\u001b[0m\u001b[0m\n\u001b[1;32m-> 1248\u001b[1;33m         return self.execute(Command.FIND_ELEMENT, {\n\u001b[0m\u001b[0;32m   1249\u001b[0m             \u001b[1;34m'using'\u001b[0m\u001b[1;33m:\u001b[0m \u001b[0mby\u001b[0m\u001b[1;33m,\u001b[0m\u001b[1;33m\u001b[0m\u001b[1;33m\u001b[0m\u001b[0m\n\u001b[0;32m   1250\u001b[0m             'value': value})['value']\n",
      "\u001b[1;32m~\\anaconda3\\lib\\site-packages\\selenium\\webdriver\\remote\\webdriver.py\u001b[0m in \u001b[0;36mexecute\u001b[1;34m(self, driver_command, params)\u001b[0m\n\u001b[0;32m    423\u001b[0m         \u001b[0mresponse\u001b[0m \u001b[1;33m=\u001b[0m \u001b[0mself\u001b[0m\u001b[1;33m.\u001b[0m\u001b[0mcommand_executor\u001b[0m\u001b[1;33m.\u001b[0m\u001b[0mexecute\u001b[0m\u001b[1;33m(\u001b[0m\u001b[0mdriver_command\u001b[0m\u001b[1;33m,\u001b[0m \u001b[0mparams\u001b[0m\u001b[1;33m)\u001b[0m\u001b[1;33m\u001b[0m\u001b[1;33m\u001b[0m\u001b[0m\n\u001b[0;32m    424\u001b[0m         \u001b[1;32mif\u001b[0m \u001b[0mresponse\u001b[0m\u001b[1;33m:\u001b[0m\u001b[1;33m\u001b[0m\u001b[1;33m\u001b[0m\u001b[0m\n\u001b[1;32m--> 425\u001b[1;33m             \u001b[0mself\u001b[0m\u001b[1;33m.\u001b[0m\u001b[0merror_handler\u001b[0m\u001b[1;33m.\u001b[0m\u001b[0mcheck_response\u001b[0m\u001b[1;33m(\u001b[0m\u001b[0mresponse\u001b[0m\u001b[1;33m)\u001b[0m\u001b[1;33m\u001b[0m\u001b[1;33m\u001b[0m\u001b[0m\n\u001b[0m\u001b[0;32m    426\u001b[0m             response['value'] = self._unwrap_value(\n\u001b[0;32m    427\u001b[0m                 response.get('value', None))\n",
      "\u001b[1;32m~\\anaconda3\\lib\\site-packages\\selenium\\webdriver\\remote\\errorhandler.py\u001b[0m in \u001b[0;36mcheck_response\u001b[1;34m(self, response)\u001b[0m\n\u001b[0;32m    245\u001b[0m                 \u001b[0malert_text\u001b[0m \u001b[1;33m=\u001b[0m \u001b[0mvalue\u001b[0m\u001b[1;33m[\u001b[0m\u001b[1;34m'alert'\u001b[0m\u001b[1;33m]\u001b[0m\u001b[1;33m.\u001b[0m\u001b[0mget\u001b[0m\u001b[1;33m(\u001b[0m\u001b[1;34m'text'\u001b[0m\u001b[1;33m)\u001b[0m\u001b[1;33m\u001b[0m\u001b[1;33m\u001b[0m\u001b[0m\n\u001b[0;32m    246\u001b[0m             \u001b[1;32mraise\u001b[0m \u001b[0mexception_class\u001b[0m\u001b[1;33m(\u001b[0m\u001b[0mmessage\u001b[0m\u001b[1;33m,\u001b[0m \u001b[0mscreen\u001b[0m\u001b[1;33m,\u001b[0m \u001b[0mstacktrace\u001b[0m\u001b[1;33m,\u001b[0m \u001b[0malert_text\u001b[0m\u001b[1;33m)\u001b[0m  \u001b[1;31m# type: ignore[call-arg]  # mypy is not smart enough here\u001b[0m\u001b[1;33m\u001b[0m\u001b[1;33m\u001b[0m\u001b[0m\n\u001b[1;32m--> 247\u001b[1;33m         \u001b[1;32mraise\u001b[0m \u001b[0mexception_class\u001b[0m\u001b[1;33m(\u001b[0m\u001b[0mmessage\u001b[0m\u001b[1;33m,\u001b[0m \u001b[0mscreen\u001b[0m\u001b[1;33m,\u001b[0m \u001b[0mstacktrace\u001b[0m\u001b[1;33m)\u001b[0m\u001b[1;33m\u001b[0m\u001b[1;33m\u001b[0m\u001b[0m\n\u001b[0m\u001b[0;32m    248\u001b[0m \u001b[1;33m\u001b[0m\u001b[0m\n\u001b[0;32m    249\u001b[0m     \u001b[1;32mdef\u001b[0m \u001b[0m_value_or_default\u001b[0m\u001b[1;33m(\u001b[0m\u001b[0mself\u001b[0m\u001b[1;33m,\u001b[0m \u001b[0mobj\u001b[0m\u001b[1;33m:\u001b[0m \u001b[0mMapping\u001b[0m\u001b[1;33m[\u001b[0m\u001b[0m_KT\u001b[0m\u001b[1;33m,\u001b[0m \u001b[0m_VT\u001b[0m\u001b[1;33m]\u001b[0m\u001b[1;33m,\u001b[0m \u001b[0mkey\u001b[0m\u001b[1;33m:\u001b[0m \u001b[0m_KT\u001b[0m\u001b[1;33m,\u001b[0m \u001b[0mdefault\u001b[0m\u001b[1;33m:\u001b[0m \u001b[0m_VT\u001b[0m\u001b[1;33m)\u001b[0m \u001b[1;33m->\u001b[0m \u001b[0m_VT\u001b[0m\u001b[1;33m:\u001b[0m\u001b[1;33m\u001b[0m\u001b[1;33m\u001b[0m\u001b[0m\n",
      "\u001b[1;31mNoSuchElementException\u001b[0m: Message: no such element: Unable to locate element: {\"method\":\"xpath\",\"selector\":\"/html/bod/div[1]\"}\n  (Session info: chrome=101.0.4951.41)\nStacktrace:\nBacktrace:\n\tOrdinal0 [0x01237413+2389011]\n\tOrdinal0 [0x011C9F61+1941345]\n\tOrdinal0 [0x010BC658+837208]\n\tOrdinal0 [0x010E91DD+1020381]\n\tOrdinal0 [0x010E949B+1021083]\n\tOrdinal0 [0x01116032+1204274]\n\tOrdinal0 [0x01104194+1130900]\n\tOrdinal0 [0x01114302+1196802]\n\tOrdinal0 [0x01103F66+1130342]\n\tOrdinal0 [0x010DE546+976198]\n\tOrdinal0 [0x010DF456+980054]\n\tGetHandleVerifier [0x013E9632+1727522]\n\tGetHandleVerifier [0x0149BA4D+2457661]\n\tGetHandleVerifier [0x012CEB81+569713]\n\tGetHandleVerifier [0x012CDD76+566118]\n\tOrdinal0 [0x011D0B2B+1968939]\n\tOrdinal0 [0x011D5988+1989000]\n\tOrdinal0 [0x011D5A75+1989237]\n\tOrdinal0 [0x011DECB1+2026673]\n\tBaseThreadInitThunk [0x75B1FA29+25]\n\tRtlGetAppContainerNamedObjectPath [0x779975F4+228]\n\tRtlGetAppContainerNamedObjectPath [0x779975C4+180]\n"
     ]
    }
   ],
   "source": [
    "main_element = driver.find_element_by_xpath('/html/body/div[1]')\n",
    "#main_element = driver.find_element_by_css_selector('.container')"
   ]
  },
  {
   "cell_type": "code",
   "execution_count": 9,
   "id": "d7470b9e",
   "metadata": {
    "ExecuteTime": {
     "end_time": "2022-05-02T23:06:26.484092Z",
     "start_time": "2022-05-02T23:06:26.467138Z"
    }
   },
   "outputs": [
    {
     "data": {
      "text/plain": [
       "<selenium.webdriver.remote.webelement.WebElement (session=\"9194dbf34bf7883906bf9ab1a1fe262a\", element=\"915fb391-66a5-4d29-b765-a572c47abe47\")>"
      ]
     },
     "execution_count": 9,
     "metadata": {},
     "output_type": "execute_result"
    }
   ],
   "source": [
    "main_element"
   ]
  },
  {
   "cell_type": "markdown",
   "id": "2167b4b6",
   "metadata": {},
   "source": [
    "### Raspando o título do primeiro jogo da página"
   ]
  },
  {
   "cell_type": "code",
   "execution_count": 10,
   "id": "b69f5b1e",
   "metadata": {
    "ExecuteTime": {
     "end_time": "2022-05-02T23:06:26.547481Z",
     "start_time": "2022-05-02T23:06:26.487084Z"
    }
   },
   "outputs": [],
   "source": [
    "product_title = main_element.find_element_by_class_name('game-collection-item-details-title').text"
   ]
  },
  {
   "cell_type": "code",
   "execution_count": 11,
   "id": "1ec11cf7",
   "metadata": {
    "ExecuteTime": {
     "end_time": "2022-05-02T23:06:26.557442Z",
     "start_time": "2022-05-02T23:06:26.550463Z"
    }
   },
   "outputs": [
    {
     "data": {
      "text/plain": [
       "'FIFA 22 Ultimate Edition PS4™ and PS5™'"
      ]
     },
     "execution_count": 11,
     "metadata": {},
     "output_type": "execute_result"
    }
   ],
   "source": [
    "product_title"
   ]
  },
  {
   "cell_type": "markdown",
   "id": "ef912a26",
   "metadata": {},
   "source": [
    "### Raspando o preço do primeiro jogo da página"
   ]
  },
  {
   "cell_type": "code",
   "execution_count": 12,
   "id": "400b4a25",
   "metadata": {
    "ExecuteTime": {
     "end_time": "2022-05-02T23:06:26.842867Z",
     "start_time": "2022-05-02T23:06:26.560435Z"
    }
   },
   "outputs": [],
   "source": [
    "product_price = main_element.find_element_by_css_selector('.game-collection-item-regular-price').text"
   ]
  },
  {
   "cell_type": "code",
   "execution_count": 13,
   "id": "0b5bc230",
   "metadata": {
    "ExecuteTime": {
     "end_time": "2022-05-02T23:06:26.849731Z",
     "start_time": "2022-05-02T23:06:26.844499Z"
    }
   },
   "outputs": [
    {
     "data": {
      "text/plain": [
       "'R$498.90'"
      ]
     },
     "execution_count": 13,
     "metadata": {},
     "output_type": "execute_result"
    }
   ],
   "source": [
    "product_price"
   ]
  },
  {
   "cell_type": "markdown",
   "id": "cd62fd31",
   "metadata": {},
   "source": [
    "## Raspando todos os títulos dos jogos da página"
   ]
  },
  {
   "cell_type": "code",
   "execution_count": 14,
   "id": "86fcd552",
   "metadata": {
    "ExecuteTime": {
     "end_time": "2022-05-02T23:06:26.870816Z",
     "start_time": "2022-05-02T23:06:26.851173Z"
    }
   },
   "outputs": [],
   "source": [
    "title_results = main_element.find_elements_by_css_selector('.game-collection-item-details-title')"
   ]
  },
  {
   "cell_type": "code",
   "execution_count": 15,
   "id": "5ce87c6b",
   "metadata": {
    "ExecuteTime": {
     "end_time": "2022-05-02T23:06:26.879183Z",
     "start_time": "2022-05-02T23:06:26.872806Z"
    }
   },
   "outputs": [
    {
     "data": {
      "text/plain": [
       "[<selenium.webdriver.remote.webelement.WebElement (session=\"9194dbf34bf7883906bf9ab1a1fe262a\", element=\"0df5bbbb-96d5-4ee4-a5b2-19699b03a3ea\")>,\n",
       " <selenium.webdriver.remote.webelement.WebElement (session=\"9194dbf34bf7883906bf9ab1a1fe262a\", element=\"bdbab9fe-c020-4663-920c-3dd2d02bb547\")>,\n",
       " <selenium.webdriver.remote.webelement.WebElement (session=\"9194dbf34bf7883906bf9ab1a1fe262a\", element=\"6c39d475-91a0-434d-a0ef-64022c947d43\")>,\n",
       " <selenium.webdriver.remote.webelement.WebElement (session=\"9194dbf34bf7883906bf9ab1a1fe262a\", element=\"ba90de1d-5d5e-4dc7-82e7-b91b7ecab36b\")>,\n",
       " <selenium.webdriver.remote.webelement.WebElement (session=\"9194dbf34bf7883906bf9ab1a1fe262a\", element=\"6d90bfcf-7b16-4ce1-8785-1e0b8ff3de1a\")>,\n",
       " <selenium.webdriver.remote.webelement.WebElement (session=\"9194dbf34bf7883906bf9ab1a1fe262a\", element=\"55927c4a-383d-4b93-82f9-08b9462e4a0d\")>,\n",
       " <selenium.webdriver.remote.webelement.WebElement (session=\"9194dbf34bf7883906bf9ab1a1fe262a\", element=\"e8fb7345-fab9-41f6-8d96-77559fb77ada\")>,\n",
       " <selenium.webdriver.remote.webelement.WebElement (session=\"9194dbf34bf7883906bf9ab1a1fe262a\", element=\"816443f2-3ff5-4580-afb2-2703a33d6a7a\")>,\n",
       " <selenium.webdriver.remote.webelement.WebElement (session=\"9194dbf34bf7883906bf9ab1a1fe262a\", element=\"ebf62ad9-7644-42ad-88cb-6c7180a8d7dd\")>,\n",
       " <selenium.webdriver.remote.webelement.WebElement (session=\"9194dbf34bf7883906bf9ab1a1fe262a\", element=\"7571da59-caba-4900-95fd-401e7085323b\")>,\n",
       " <selenium.webdriver.remote.webelement.WebElement (session=\"9194dbf34bf7883906bf9ab1a1fe262a\", element=\"35ca9533-8c3f-4a02-b432-4ac2ad88daa0\")>]"
      ]
     },
     "execution_count": 15,
     "metadata": {},
     "output_type": "execute_result"
    }
   ],
   "source": [
    "title_results"
   ]
  },
  {
   "cell_type": "markdown",
   "id": "6cbbd18c",
   "metadata": {
    "ExecuteTime": {
     "end_time": "2022-04-30T15:38:19.567885Z",
     "start_time": "2022-04-30T15:38:19.552869Z"
    }
   },
   "source": [
    "### Separando o texto dos títulos"
   ]
  },
  {
   "cell_type": "code",
   "execution_count": 16,
   "id": "9f6d8e16",
   "metadata": {
    "ExecuteTime": {
     "end_time": "2022-05-02T23:06:27.022979Z",
     "start_time": "2022-05-02T23:06:26.881158Z"
    }
   },
   "outputs": [],
   "source": [
    "product_list = [title.text for title in title_results]"
   ]
  },
  {
   "cell_type": "code",
   "execution_count": 17,
   "id": "6620bc2f",
   "metadata": {
    "ExecuteTime": {
     "end_time": "2022-05-02T23:06:27.029677Z",
     "start_time": "2022-05-02T23:06:27.024302Z"
    }
   },
   "outputs": [
    {
     "data": {
      "text/plain": [
       "['FIFA 22 Ultimate Edition PS4™ and PS5™',\n",
       " 'FIFA 22 PS4™',\n",
       " 'FIFA 22 PS5™',\n",
       " 'FIFA 21 Champions Edition PS4™ and PS5™',\n",
       " 'FIFA 21 Ultimate Edition PS4™ and PS5™',\n",
       " 'FIFA 21 NXT LVL EDITION PS5™',\n",
       " 'FIFA 21 Standard Edition PS4™ and PS5™',\n",
       " 'EA SPORTS™ FIFA 17 Standard Edition',\n",
       " 'EA SPORTS™ FIFA 16',\n",
       " 'FIFA 15',\n",
       " 'EA SPORTS™ FIFA Street']"
      ]
     },
     "execution_count": 17,
     "metadata": {},
     "output_type": "execute_result"
    }
   ],
   "source": [
    "product_list"
   ]
  },
  {
   "cell_type": "markdown",
   "id": "f4e67fc0",
   "metadata": {},
   "source": [
    "## Raspando todos os preços dos jogos da página\n"
   ]
  },
  {
   "cell_type": "code",
   "execution_count": 18,
   "id": "aa3dc143",
   "metadata": {
    "ExecuteTime": {
     "end_time": "2022-05-02T23:06:27.049601Z",
     "start_time": "2022-05-02T23:06:27.032013Z"
    }
   },
   "outputs": [],
   "source": [
    "price_results = main_element.find_elements_by_css_selector('.game-collection-item-regular-price')"
   ]
  },
  {
   "cell_type": "code",
   "execution_count": 19,
   "id": "f2acfb3a",
   "metadata": {
    "ExecuteTime": {
     "end_time": "2022-05-02T23:06:27.058930Z",
     "start_time": "2022-05-02T23:06:27.051087Z"
    }
   },
   "outputs": [
    {
     "data": {
      "text/plain": [
       "[<selenium.webdriver.remote.webelement.WebElement (session=\"9194dbf34bf7883906bf9ab1a1fe262a\", element=\"42c37331-aece-44d2-a04d-124fd8e00f28\")>,\n",
       " <selenium.webdriver.remote.webelement.WebElement (session=\"9194dbf34bf7883906bf9ab1a1fe262a\", element=\"00487a74-f7e1-4e5b-b9d9-1afd08f48548\")>,\n",
       " <selenium.webdriver.remote.webelement.WebElement (session=\"9194dbf34bf7883906bf9ab1a1fe262a\", element=\"20361a26-3f4a-4e38-a04f-da8db4c772d1\")>,\n",
       " <selenium.webdriver.remote.webelement.WebElement (session=\"9194dbf34bf7883906bf9ab1a1fe262a\", element=\"b51a41d0-64b4-4058-ac00-6871c95788cc\")>,\n",
       " <selenium.webdriver.remote.webelement.WebElement (session=\"9194dbf34bf7883906bf9ab1a1fe262a\", element=\"8061f50a-c834-4a26-a748-167f7e64beba\")>,\n",
       " <selenium.webdriver.remote.webelement.WebElement (session=\"9194dbf34bf7883906bf9ab1a1fe262a\", element=\"6fa7776f-7743-48e6-b512-5485fea8e99d\")>,\n",
       " <selenium.webdriver.remote.webelement.WebElement (session=\"9194dbf34bf7883906bf9ab1a1fe262a\", element=\"5c6b5363-07e1-41d9-9136-1afd4859dfa1\")>,\n",
       " <selenium.webdriver.remote.webelement.WebElement (session=\"9194dbf34bf7883906bf9ab1a1fe262a\", element=\"ad07faf9-cb24-4e43-9d27-f2ad4695c563\")>,\n",
       " <selenium.webdriver.remote.webelement.WebElement (session=\"9194dbf34bf7883906bf9ab1a1fe262a\", element=\"2777345e-7019-4057-b4cb-1b150f7cd49f\")>,\n",
       " <selenium.webdriver.remote.webelement.WebElement (session=\"9194dbf34bf7883906bf9ab1a1fe262a\", element=\"d5ef3741-0ac8-4e8e-981d-65a99240eb48\")>,\n",
       " <selenium.webdriver.remote.webelement.WebElement (session=\"9194dbf34bf7883906bf9ab1a1fe262a\", element=\"fbecde74-0322-4fa4-b96a-617510a50bde\")>]"
      ]
     },
     "execution_count": 19,
     "metadata": {},
     "output_type": "execute_result"
    }
   ],
   "source": [
    "price_results"
   ]
  },
  {
   "cell_type": "markdown",
   "id": "1d1d0190",
   "metadata": {},
   "source": [
    "### Separando o texto dos títulos"
   ]
  },
  {
   "cell_type": "code",
   "execution_count": 20,
   "id": "df80201d",
   "metadata": {
    "ExecuteTime": {
     "end_time": "2022-05-02T23:06:27.200181Z",
     "start_time": "2022-05-02T23:06:27.061926Z"
    }
   },
   "outputs": [],
   "source": [
    "price_list = [title.text for title in price_results]"
   ]
  },
  {
   "cell_type": "code",
   "execution_count": 21,
   "id": "2f221091",
   "metadata": {
    "ExecuteTime": {
     "end_time": "2022-05-02T23:06:27.207166Z",
     "start_time": "2022-05-02T23:06:27.202177Z"
    }
   },
   "outputs": [
    {
     "data": {
      "text/plain": [
       "['R$498.90',\n",
       " 'R$298.90',\n",
       " 'R$338.90',\n",
       " 'R$398.90',\n",
       " 'R$498.90',\n",
       " 'R$338.90',\n",
       " 'R$298.90',\n",
       " 'R$124.90',\n",
       " 'R$129.90',\n",
       " 'R$49.99',\n",
       " 'R$203.90']"
      ]
     },
     "execution_count": 21,
     "metadata": {},
     "output_type": "execute_result"
    }
   ],
   "source": [
    "price_list"
   ]
  },
  {
   "cell_type": "markdown",
   "id": "a3873203",
   "metadata": {},
   "source": [
    "### Colocando os títulos e os preços em um dicionário"
   ]
  },
  {
   "cell_type": "code",
   "execution_count": 22,
   "id": "4da2544e",
   "metadata": {
    "ExecuteTime": {
     "end_time": "2022-05-02T23:06:27.217092Z",
     "start_time": "2022-05-02T23:06:27.210154Z"
    }
   },
   "outputs": [
    {
     "data": {
      "text/plain": [
       "{'FIFA 22 Ultimate Edition PS4™ and PS5™': 'R$498.90',\n",
       " 'FIFA 22 PS4™': 'R$298.90',\n",
       " 'FIFA 22 PS5™': 'R$338.90',\n",
       " 'FIFA 21 Champions Edition PS4™ and PS5™': 'R$398.90',\n",
       " 'FIFA 21 Ultimate Edition PS4™ and PS5™': 'R$498.90',\n",
       " 'FIFA 21 NXT LVL EDITION PS5™': 'R$338.90',\n",
       " 'FIFA 21 Standard Edition PS4™ and PS5™': 'R$298.90',\n",
       " 'EA SPORTS™ FIFA 17 Standard Edition': 'R$124.90',\n",
       " 'EA SPORTS™ FIFA 16': 'R$129.90',\n",
       " 'FIFA 15': 'R$49.99',\n",
       " 'EA SPORTS™ FIFA Street': 'R$203.90'}"
      ]
     },
     "execution_count": 22,
     "metadata": {},
     "output_type": "execute_result"
    }
   ],
   "source": [
    "dicionario = {}\n",
    "for title, result in zip(product_list, price_list):\n",
    "    dicionario[title] = result\n",
    "    \n",
    "dicionario"
   ]
  },
  {
   "cell_type": "markdown",
   "id": "c302bac8",
   "metadata": {},
   "source": [
    "### Convertendo o dicionário em um dataframe"
   ]
  },
  {
   "cell_type": "code",
   "execution_count": 23,
   "id": "f5fd35ec",
   "metadata": {
    "ExecuteTime": {
     "end_time": "2022-05-02T23:06:27.224823Z",
     "start_time": "2022-05-02T23:06:27.219087Z"
    }
   },
   "outputs": [],
   "source": [
    "data_1 = pd.DataFrame.from_dict(dicionario, orient='index').reset_index()"
   ]
  },
  {
   "cell_type": "code",
   "execution_count": 24,
   "id": "096ee54e",
   "metadata": {
    "ExecuteTime": {
     "end_time": "2022-05-02T23:06:27.236261Z",
     "start_time": "2022-05-02T23:06:27.227285Z"
    }
   },
   "outputs": [],
   "source": [
    "data_1 = data_1.rename(columns = {'index': 'Game', 0:'Price'})"
   ]
  },
  {
   "cell_type": "code",
   "execution_count": 25,
   "id": "1d19b887",
   "metadata": {
    "ExecuteTime": {
     "end_time": "2022-05-02T23:06:27.257582Z",
     "start_time": "2022-05-02T23:06:27.243243Z"
    }
   },
   "outputs": [
    {
     "data": {
      "text/html": [
       "<div>\n",
       "<style scoped>\n",
       "    .dataframe tbody tr th:only-of-type {\n",
       "        vertical-align: middle;\n",
       "    }\n",
       "\n",
       "    .dataframe tbody tr th {\n",
       "        vertical-align: top;\n",
       "    }\n",
       "\n",
       "    .dataframe thead th {\n",
       "        text-align: right;\n",
       "    }\n",
       "</style>\n",
       "<table border=\"1\" class=\"dataframe\">\n",
       "  <thead>\n",
       "    <tr style=\"text-align: right;\">\n",
       "      <th></th>\n",
       "      <th>Game</th>\n",
       "      <th>Price</th>\n",
       "    </tr>\n",
       "  </thead>\n",
       "  <tbody>\n",
       "    <tr>\n",
       "      <th>0</th>\n",
       "      <td>FIFA 22 Ultimate Edition PS4™ and PS5™</td>\n",
       "      <td>R$498.90</td>\n",
       "    </tr>\n",
       "    <tr>\n",
       "      <th>1</th>\n",
       "      <td>FIFA 22 PS4™</td>\n",
       "      <td>R$298.90</td>\n",
       "    </tr>\n",
       "    <tr>\n",
       "      <th>2</th>\n",
       "      <td>FIFA 22 PS5™</td>\n",
       "      <td>R$338.90</td>\n",
       "    </tr>\n",
       "    <tr>\n",
       "      <th>3</th>\n",
       "      <td>FIFA 21 Champions Edition PS4™ and PS5™</td>\n",
       "      <td>R$398.90</td>\n",
       "    </tr>\n",
       "    <tr>\n",
       "      <th>4</th>\n",
       "      <td>FIFA 21 Ultimate Edition PS4™ and PS5™</td>\n",
       "      <td>R$498.90</td>\n",
       "    </tr>\n",
       "    <tr>\n",
       "      <th>5</th>\n",
       "      <td>FIFA 21 NXT LVL EDITION PS5™</td>\n",
       "      <td>R$338.90</td>\n",
       "    </tr>\n",
       "    <tr>\n",
       "      <th>6</th>\n",
       "      <td>FIFA 21 Standard Edition PS4™ and PS5™</td>\n",
       "      <td>R$298.90</td>\n",
       "    </tr>\n",
       "    <tr>\n",
       "      <th>7</th>\n",
       "      <td>EA SPORTS™ FIFA 17 Standard Edition</td>\n",
       "      <td>R$124.90</td>\n",
       "    </tr>\n",
       "    <tr>\n",
       "      <th>8</th>\n",
       "      <td>EA SPORTS™ FIFA 16</td>\n",
       "      <td>R$129.90</td>\n",
       "    </tr>\n",
       "    <tr>\n",
       "      <th>9</th>\n",
       "      <td>FIFA 15</td>\n",
       "      <td>R$49.99</td>\n",
       "    </tr>\n",
       "    <tr>\n",
       "      <th>10</th>\n",
       "      <td>EA SPORTS™ FIFA Street</td>\n",
       "      <td>R$203.90</td>\n",
       "    </tr>\n",
       "  </tbody>\n",
       "</table>\n",
       "</div>"
      ],
      "text/plain": [
       "                                       Game     Price\n",
       "0    FIFA 22 Ultimate Edition PS4™ and PS5™  R$498.90\n",
       "1                              FIFA 22 PS4™  R$298.90\n",
       "2                              FIFA 22 PS5™  R$338.90\n",
       "3   FIFA 21 Champions Edition PS4™ and PS5™  R$398.90\n",
       "4    FIFA 21 Ultimate Edition PS4™ and PS5™  R$498.90\n",
       "5              FIFA 21 NXT LVL EDITION PS5™  R$338.90\n",
       "6    FIFA 21 Standard Edition PS4™ and PS5™  R$298.90\n",
       "7       EA SPORTS™ FIFA 17 Standard Edition  R$124.90\n",
       "8                        EA SPORTS™ FIFA 16  R$129.90\n",
       "9                                   FIFA 15   R$49.99\n",
       "10                   EA SPORTS™ FIFA Street  R$203.90"
      ]
     },
     "execution_count": 25,
     "metadata": {},
     "output_type": "execute_result"
    }
   ],
   "source": [
    "data_1"
   ]
  },
  {
   "cell_type": "code",
   "execution_count": 26,
   "id": "8a19bc82",
   "metadata": {
    "ExecuteTime": {
     "end_time": "2022-05-02T23:06:29.610002Z",
     "start_time": "2022-05-02T23:06:27.259201Z"
    }
   },
   "outputs": [],
   "source": [
    "driver.quit()"
   ]
  }
 ],
 "metadata": {
  "kernelspec": {
   "display_name": "Python 3 (ipykernel)",
   "language": "python",
   "name": "python3"
  },
  "language_info": {
   "codemirror_mode": {
    "name": "ipython",
    "version": 3
   },
   "file_extension": ".py",
   "mimetype": "text/x-python",
   "name": "python",
   "nbconvert_exporter": "python",
   "pygments_lexer": "ipython3",
   "version": "3.9.7"
  }
 },
 "nbformat": 4,
 "nbformat_minor": 5
}
